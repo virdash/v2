{
 "cells": [
  {
   "cell_type": "code",
   "execution_count": 1,
   "metadata": {},
   "outputs": [],
   "source": [
    "import pandas as pd\n",
    "import numpy as np"
   ]
  },
  {
   "cell_type": "code",
   "execution_count": 2,
   "metadata": {},
   "outputs": [],
   "source": [
    "confirm = pd.read_csv('https://raw.githubusercontent.com/CSSEGISandData/COVID-19/master/csse_covid_19_data/csse_covid_19_time_series/time_series_covid19_confirmed_global.csv')\n",
    "recover = pd.read_csv('https://raw.githubusercontent.com/CSSEGISandData/COVID-19/master/csse_covid_19_data/csse_covid_19_time_series/time_series_covid19_recovered_global.csv')\n",
    "death = pd.read_csv('https://raw.githubusercontent.com/CSSEGISandData/COVID-19/master/csse_covid_19_data/csse_covid_19_time_series/time_series_covid19_deaths_global.csv')"
   ]
  },
  {
   "cell_type": "code",
   "execution_count": 3,
   "metadata": {},
   "outputs": [],
   "source": [
    "confirm.to_csv('confirm.csv')\n",
    "recover.to_csv('recover.csv')\n",
    "death.to_csv('death.csv')"
   ]
  },
  {
   "cell_type": "code",
   "execution_count": 4,
   "metadata": {},
   "outputs": [
    {
     "data": {
      "text/plain": [
<<<<<<< HEAD
       "(264, 102)"
=======
       "(264, 99)"
>>>>>>> 6ec1e3ce5f989841c549ab20796c6168663d7901
      ]
     },
     "execution_count": 4,
     "metadata": {},
     "output_type": "execute_result"
    }
   ],
   "source": [
    "confirm.shape"
   ]
  },
  {
   "cell_type": "code",
   "execution_count": 5,
   "metadata": {},
   "outputs": [
    {
     "data": {
      "text/plain": [
<<<<<<< HEAD
       "(250, 102)"
=======
       "(250, 99)"
>>>>>>> 6ec1e3ce5f989841c549ab20796c6168663d7901
      ]
     },
     "execution_count": 5,
     "metadata": {},
     "output_type": "execute_result"
    }
   ],
   "source": [
    "recover.shape"
   ]
  },
  {
   "cell_type": "code",
   "execution_count": 6,
   "metadata": {},
   "outputs": [
    {
     "data": {
      "text/plain": [
<<<<<<< HEAD
       "(264, 102)"
=======
       "(264, 99)"
>>>>>>> 6ec1e3ce5f989841c549ab20796c6168663d7901
      ]
     },
     "execution_count": 6,
     "metadata": {},
     "output_type": "execute_result"
    }
   ],
   "source": [
    "death.shape"
   ]
  },
  {
   "cell_type": "code",
   "execution_count": 7,
   "metadata": {},
   "outputs": [
    {
     "data": {
      "text/html": [
       "<div>\n",
       "<style scoped>\n",
       "    .dataframe tbody tr th:only-of-type {\n",
       "        vertical-align: middle;\n",
       "    }\n",
       "\n",
       "    .dataframe tbody tr th {\n",
       "        vertical-align: top;\n",
       "    }\n",
       "\n",
       "    .dataframe thead th {\n",
       "        text-align: right;\n",
       "    }\n",
       "</style>\n",
       "<table border=\"1\" class=\"dataframe\">\n",
       "  <thead>\n",
       "    <tr style=\"text-align: right;\">\n",
       "      <th></th>\n",
       "      <th>Province/State</th>\n",
       "      <th>Country/Region</th>\n",
       "      <th>Lat</th>\n",
       "      <th>Long</th>\n",
       "      <th>1/22/20</th>\n",
       "      <th>1/23/20</th>\n",
       "      <th>1/24/20</th>\n",
       "      <th>1/25/20</th>\n",
       "      <th>1/26/20</th>\n",
       "      <th>1/27/20</th>\n",
       "      <th>...</th>\n",
<<<<<<< HEAD
=======
       "      <th>4/16/20</th>\n",
       "      <th>4/17/20</th>\n",
       "      <th>4/18/20</th>\n",
>>>>>>> 6ec1e3ce5f989841c549ab20796c6168663d7901
       "      <th>4/19/20</th>\n",
       "      <th>4/20/20</th>\n",
       "      <th>4/21/20</th>\n",
       "      <th>4/22/20</th>\n",
       "      <th>4/23/20</th>\n",
       "      <th>4/24/20</th>\n",
       "      <th>4/25/20</th>\n",
<<<<<<< HEAD
       "      <th>4/26/20</th>\n",
       "      <th>4/27/20</th>\n",
       "      <th>4/28/20</th>\n",
=======
>>>>>>> 6ec1e3ce5f989841c549ab20796c6168663d7901
       "    </tr>\n",
       "  </thead>\n",
       "  <tbody>\n",
       "    <tr>\n",
       "      <th>0</th>\n",
       "      <td>NaN</td>\n",
       "      <td>Afghanistan</td>\n",
       "      <td>33.0000</td>\n",
       "      <td>65.0000</td>\n",
       "      <td>0</td>\n",
       "      <td>0</td>\n",
       "      <td>0</td>\n",
       "      <td>0</td>\n",
       "      <td>0</td>\n",
       "      <td>0</td>\n",
       "      <td>...</td>\n",
<<<<<<< HEAD
=======
       "      <td>840</td>\n",
       "      <td>906</td>\n",
       "      <td>933</td>\n",
>>>>>>> 6ec1e3ce5f989841c549ab20796c6168663d7901
       "      <td>996</td>\n",
       "      <td>1026</td>\n",
       "      <td>1092</td>\n",
       "      <td>1176</td>\n",
       "      <td>1279</td>\n",
       "      <td>1351</td>\n",
       "      <td>1463</td>\n",
<<<<<<< HEAD
       "      <td>1531</td>\n",
       "      <td>1703</td>\n",
       "      <td>1828</td>\n",
=======
>>>>>>> 6ec1e3ce5f989841c549ab20796c6168663d7901
       "    </tr>\n",
       "    <tr>\n",
       "      <th>1</th>\n",
       "      <td>NaN</td>\n",
       "      <td>Albania</td>\n",
       "      <td>41.1533</td>\n",
       "      <td>20.1683</td>\n",
       "      <td>0</td>\n",
       "      <td>0</td>\n",
       "      <td>0</td>\n",
       "      <td>0</td>\n",
       "      <td>0</td>\n",
       "      <td>0</td>\n",
       "      <td>...</td>\n",
<<<<<<< HEAD
=======
       "      <td>518</td>\n",
       "      <td>539</td>\n",
       "      <td>548</td>\n",
>>>>>>> 6ec1e3ce5f989841c549ab20796c6168663d7901
       "      <td>562</td>\n",
       "      <td>584</td>\n",
       "      <td>609</td>\n",
       "      <td>634</td>\n",
       "      <td>663</td>\n",
       "      <td>678</td>\n",
       "      <td>712</td>\n",
<<<<<<< HEAD
       "      <td>726</td>\n",
       "      <td>736</td>\n",
       "      <td>750</td>\n",
=======
>>>>>>> 6ec1e3ce5f989841c549ab20796c6168663d7901
       "    </tr>\n",
       "    <tr>\n",
       "      <th>2</th>\n",
       "      <td>NaN</td>\n",
       "      <td>Algeria</td>\n",
       "      <td>28.0339</td>\n",
       "      <td>1.6596</td>\n",
       "      <td>0</td>\n",
       "      <td>0</td>\n",
       "      <td>0</td>\n",
       "      <td>0</td>\n",
       "      <td>0</td>\n",
       "      <td>0</td>\n",
       "      <td>...</td>\n",
<<<<<<< HEAD
=======
       "      <td>2268</td>\n",
       "      <td>2418</td>\n",
       "      <td>2534</td>\n",
>>>>>>> 6ec1e3ce5f989841c549ab20796c6168663d7901
       "      <td>2629</td>\n",
       "      <td>2718</td>\n",
       "      <td>2811</td>\n",
       "      <td>2910</td>\n",
       "      <td>3007</td>\n",
       "      <td>3127</td>\n",
       "      <td>3256</td>\n",
<<<<<<< HEAD
       "      <td>3382</td>\n",
       "      <td>3517</td>\n",
       "      <td>3649</td>\n",
=======
>>>>>>> 6ec1e3ce5f989841c549ab20796c6168663d7901
       "    </tr>\n",
       "    <tr>\n",
       "      <th>3</th>\n",
       "      <td>NaN</td>\n",
       "      <td>Andorra</td>\n",
       "      <td>42.5063</td>\n",
       "      <td>1.5218</td>\n",
       "      <td>0</td>\n",
       "      <td>0</td>\n",
       "      <td>0</td>\n",
       "      <td>0</td>\n",
       "      <td>0</td>\n",
       "      <td>0</td>\n",
       "      <td>...</td>\n",
<<<<<<< HEAD
=======
       "      <td>673</td>\n",
       "      <td>696</td>\n",
       "      <td>704</td>\n",
>>>>>>> 6ec1e3ce5f989841c549ab20796c6168663d7901
       "      <td>713</td>\n",
       "      <td>717</td>\n",
       "      <td>717</td>\n",
       "      <td>723</td>\n",
       "      <td>723</td>\n",
       "      <td>731</td>\n",
       "      <td>738</td>\n",
<<<<<<< HEAD
       "      <td>738</td>\n",
       "      <td>743</td>\n",
       "      <td>743</td>\n",
=======
>>>>>>> 6ec1e3ce5f989841c549ab20796c6168663d7901
       "    </tr>\n",
       "    <tr>\n",
       "      <th>4</th>\n",
       "      <td>NaN</td>\n",
       "      <td>Angola</td>\n",
       "      <td>-11.2027</td>\n",
       "      <td>17.8739</td>\n",
       "      <td>0</td>\n",
       "      <td>0</td>\n",
       "      <td>0</td>\n",
       "      <td>0</td>\n",
       "      <td>0</td>\n",
       "      <td>0</td>\n",
       "      <td>...</td>\n",
<<<<<<< HEAD
=======
       "      <td>19</td>\n",
       "      <td>19</td>\n",
       "      <td>24</td>\n",
>>>>>>> 6ec1e3ce5f989841c549ab20796c6168663d7901
       "      <td>24</td>\n",
       "      <td>24</td>\n",
       "      <td>24</td>\n",
       "      <td>25</td>\n",
       "      <td>25</td>\n",
       "      <td>25</td>\n",
       "      <td>25</td>\n",
<<<<<<< HEAD
       "      <td>26</td>\n",
       "      <td>27</td>\n",
       "      <td>27</td>\n",
       "    </tr>\n",
       "  </tbody>\n",
       "</table>\n",
       "<p>5 rows × 102 columns</p>\n",
=======
       "    </tr>\n",
       "  </tbody>\n",
       "</table>\n",
       "<p>5 rows × 99 columns</p>\n",
>>>>>>> 6ec1e3ce5f989841c549ab20796c6168663d7901
       "</div>"
      ],
      "text/plain": [
       "  Province/State Country/Region      Lat     Long  1/22/20  1/23/20  1/24/20  \\\n",
       "0            NaN    Afghanistan  33.0000  65.0000        0        0        0   \n",
       "1            NaN        Albania  41.1533  20.1683        0        0        0   \n",
       "2            NaN        Algeria  28.0339   1.6596        0        0        0   \n",
       "3            NaN        Andorra  42.5063   1.5218        0        0        0   \n",
       "4            NaN         Angola -11.2027  17.8739        0        0        0   \n",
       "\n",
<<<<<<< HEAD
       "   1/25/20  1/26/20  1/27/20  ...  4/19/20  4/20/20  4/21/20  4/22/20  \\\n",
       "0        0        0        0  ...      996     1026     1092     1176   \n",
       "1        0        0        0  ...      562      584      609      634   \n",
       "2        0        0        0  ...     2629     2718     2811     2910   \n",
       "3        0        0        0  ...      713      717      717      723   \n",
       "4        0        0        0  ...       24       24       24       25   \n",
       "\n",
       "   4/23/20  4/24/20  4/25/20  4/26/20  4/27/20  4/28/20  \n",
       "0     1279     1351     1463     1531     1703     1828  \n",
       "1      663      678      712      726      736      750  \n",
       "2     3007     3127     3256     3382     3517     3649  \n",
       "3      723      731      738      738      743      743  \n",
       "4       25       25       25       26       27       27  \n",
       "\n",
       "[5 rows x 102 columns]"
=======
       "   1/25/20  1/26/20  1/27/20  ...  4/16/20  4/17/20  4/18/20  4/19/20  \\\n",
       "0        0        0        0  ...      840      906      933      996   \n",
       "1        0        0        0  ...      518      539      548      562   \n",
       "2        0        0        0  ...     2268     2418     2534     2629   \n",
       "3        0        0        0  ...      673      696      704      713   \n",
       "4        0        0        0  ...       19       19       24       24   \n",
       "\n",
       "   4/20/20  4/21/20  4/22/20  4/23/20  4/24/20  4/25/20  \n",
       "0     1026     1092     1176     1279     1351     1463  \n",
       "1      584      609      634      663      678      712  \n",
       "2     2718     2811     2910     3007     3127     3256  \n",
       "3      717      717      723      723      731      738  \n",
       "4       24       24       25       25       25       25  \n",
       "\n",
       "[5 rows x 99 columns]"
>>>>>>> 6ec1e3ce5f989841c549ab20796c6168663d7901
      ]
     },
     "execution_count": 7,
     "metadata": {},
     "output_type": "execute_result"
    }
   ],
   "source": [
    "confirm.head()"
   ]
  },
  {
   "cell_type": "code",
   "execution_count": 8,
   "metadata": {},
   "outputs": [],
   "source": [
    "# confirm.fillna(\"\", inplace=True)\n",
    "# recover.fillna(\"\", inplace=True)\n",
    "# death.fillna(\"\", inplace=True)"
   ]
  },
  {
   "cell_type": "code",
   "execution_count": 9,
   "metadata": {},
   "outputs": [],
   "source": [
    "temp = confirm.iloc[:,:4]\n",
    "temp['confirm'] = confirm.iloc[:,-1]\n",
    "confirm = temp"
   ]
  },
  {
   "cell_type": "code",
   "execution_count": 10,
   "metadata": {},
   "outputs": [
    {
     "data": {
      "text/html": [
       "<div>\n",
       "<style scoped>\n",
       "    .dataframe tbody tr th:only-of-type {\n",
       "        vertical-align: middle;\n",
       "    }\n",
       "\n",
       "    .dataframe tbody tr th {\n",
       "        vertical-align: top;\n",
       "    }\n",
       "\n",
       "    .dataframe thead th {\n",
       "        text-align: right;\n",
       "    }\n",
       "</style>\n",
       "<table border=\"1\" class=\"dataframe\">\n",
       "  <thead>\n",
       "    <tr style=\"text-align: right;\">\n",
       "      <th></th>\n",
       "      <th>Province/State</th>\n",
       "      <th>Country/Region</th>\n",
       "      <th>Lat</th>\n",
       "      <th>Long</th>\n",
       "      <th>confirm</th>\n",
       "    </tr>\n",
       "  </thead>\n",
       "  <tbody>\n",
       "    <tr>\n",
       "      <th>0</th>\n",
       "      <td>NaN</td>\n",
       "      <td>Afghanistan</td>\n",
       "      <td>33.0000</td>\n",
       "      <td>65.0000</td>\n",
<<<<<<< HEAD
       "      <td>1828</td>\n",
=======
       "      <td>1463</td>\n",
>>>>>>> 6ec1e3ce5f989841c549ab20796c6168663d7901
       "    </tr>\n",
       "    <tr>\n",
       "      <th>1</th>\n",
       "      <td>NaN</td>\n",
       "      <td>Albania</td>\n",
       "      <td>41.1533</td>\n",
       "      <td>20.1683</td>\n",
<<<<<<< HEAD
       "      <td>750</td>\n",
=======
       "      <td>712</td>\n",
>>>>>>> 6ec1e3ce5f989841c549ab20796c6168663d7901
       "    </tr>\n",
       "    <tr>\n",
       "      <th>2</th>\n",
       "      <td>NaN</td>\n",
       "      <td>Algeria</td>\n",
       "      <td>28.0339</td>\n",
       "      <td>1.6596</td>\n",
<<<<<<< HEAD
       "      <td>3649</td>\n",
=======
       "      <td>3256</td>\n",
>>>>>>> 6ec1e3ce5f989841c549ab20796c6168663d7901
       "    </tr>\n",
       "    <tr>\n",
       "      <th>3</th>\n",
       "      <td>NaN</td>\n",
       "      <td>Andorra</td>\n",
       "      <td>42.5063</td>\n",
       "      <td>1.5218</td>\n",
<<<<<<< HEAD
       "      <td>743</td>\n",
=======
       "      <td>738</td>\n",
>>>>>>> 6ec1e3ce5f989841c549ab20796c6168663d7901
       "    </tr>\n",
       "    <tr>\n",
       "      <th>4</th>\n",
       "      <td>NaN</td>\n",
       "      <td>Angola</td>\n",
       "      <td>-11.2027</td>\n",
       "      <td>17.8739</td>\n",
       "      <td>27</td>\n",
       "    </tr>\n",
       "  </tbody>\n",
       "</table>\n",
       "</div>"
      ],
      "text/plain": [
       "  Province/State Country/Region      Lat     Long  confirm\n",
<<<<<<< HEAD
       "0            NaN    Afghanistan  33.0000  65.0000     1828\n",
       "1            NaN        Albania  41.1533  20.1683      750\n",
       "2            NaN        Algeria  28.0339   1.6596     3649\n",
       "3            NaN        Andorra  42.5063   1.5218      743\n",
       "4            NaN         Angola -11.2027  17.8739       27"
=======
       "0            NaN    Afghanistan  33.0000  65.0000     1463\n",
       "1            NaN        Albania  41.1533  20.1683      712\n",
       "2            NaN        Algeria  28.0339   1.6596     3256\n",
       "3            NaN        Andorra  42.5063   1.5218      738\n",
       "4            NaN         Angola -11.2027  17.8739       25"
>>>>>>> 6ec1e3ce5f989841c549ab20796c6168663d7901
      ]
     },
     "execution_count": 10,
     "metadata": {},
     "output_type": "execute_result"
    }
   ],
   "source": [
    "confirm.head()"
   ]
  },
  {
   "cell_type": "code",
   "execution_count": 11,
   "metadata": {},
   "outputs": [],
   "source": [
    "temp = recover.iloc[:,:4]\n",
    "temp['recover'] = recover.iloc[:,-1]\n",
    "recover = temp"
   ]
  },
  {
   "cell_type": "code",
   "execution_count": 12,
   "metadata": {},
   "outputs": [
    {
     "data": {
      "text/html": [
       "<div>\n",
       "<style scoped>\n",
       "    .dataframe tbody tr th:only-of-type {\n",
       "        vertical-align: middle;\n",
       "    }\n",
       "\n",
       "    .dataframe tbody tr th {\n",
       "        vertical-align: top;\n",
       "    }\n",
       "\n",
       "    .dataframe thead th {\n",
       "        text-align: right;\n",
       "    }\n",
       "</style>\n",
       "<table border=\"1\" class=\"dataframe\">\n",
       "  <thead>\n",
       "    <tr style=\"text-align: right;\">\n",
       "      <th></th>\n",
       "      <th>Province/State</th>\n",
       "      <th>Country/Region</th>\n",
       "      <th>Lat</th>\n",
       "      <th>Long</th>\n",
       "      <th>recover</th>\n",
       "    </tr>\n",
       "  </thead>\n",
       "  <tbody>\n",
       "    <tr>\n",
       "      <th>0</th>\n",
       "      <td>NaN</td>\n",
       "      <td>Afghanistan</td>\n",
       "      <td>33.0000</td>\n",
       "      <td>65.0000</td>\n",
<<<<<<< HEAD
       "      <td>228</td>\n",
=======
       "      <td>188</td>\n",
>>>>>>> 6ec1e3ce5f989841c549ab20796c6168663d7901
       "    </tr>\n",
       "    <tr>\n",
       "      <th>1</th>\n",
       "      <td>NaN</td>\n",
       "      <td>Albania</td>\n",
       "      <td>41.1533</td>\n",
       "      <td>20.1683</td>\n",
<<<<<<< HEAD
       "      <td>431</td>\n",
=======
       "      <td>403</td>\n",
>>>>>>> 6ec1e3ce5f989841c549ab20796c6168663d7901
       "    </tr>\n",
       "    <tr>\n",
       "      <th>2</th>\n",
       "      <td>NaN</td>\n",
       "      <td>Algeria</td>\n",
       "      <td>28.0339</td>\n",
       "      <td>1.6596</td>\n",
<<<<<<< HEAD
       "      <td>1651</td>\n",
=======
       "      <td>1479</td>\n",
>>>>>>> 6ec1e3ce5f989841c549ab20796c6168663d7901
       "    </tr>\n",
       "    <tr>\n",
       "      <th>3</th>\n",
       "      <td>NaN</td>\n",
       "      <td>Andorra</td>\n",
       "      <td>42.5063</td>\n",
       "      <td>1.5218</td>\n",
<<<<<<< HEAD
       "      <td>398</td>\n",
=======
       "      <td>344</td>\n",
>>>>>>> 6ec1e3ce5f989841c549ab20796c6168663d7901
       "    </tr>\n",
       "    <tr>\n",
       "      <th>4</th>\n",
       "      <td>NaN</td>\n",
       "      <td>Angola</td>\n",
       "      <td>-11.2027</td>\n",
       "      <td>17.8739</td>\n",
       "      <td>6</td>\n",
       "    </tr>\n",
       "  </tbody>\n",
       "</table>\n",
       "</div>"
      ],
      "text/plain": [
       "  Province/State Country/Region      Lat     Long  recover\n",
<<<<<<< HEAD
       "0            NaN    Afghanistan  33.0000  65.0000      228\n",
       "1            NaN        Albania  41.1533  20.1683      431\n",
       "2            NaN        Algeria  28.0339   1.6596     1651\n",
       "3            NaN        Andorra  42.5063   1.5218      398\n",
=======
       "0            NaN    Afghanistan  33.0000  65.0000      188\n",
       "1            NaN        Albania  41.1533  20.1683      403\n",
       "2            NaN        Algeria  28.0339   1.6596     1479\n",
       "3            NaN        Andorra  42.5063   1.5218      344\n",
>>>>>>> 6ec1e3ce5f989841c549ab20796c6168663d7901
       "4            NaN         Angola -11.2027  17.8739        6"
      ]
     },
     "execution_count": 12,
     "metadata": {},
     "output_type": "execute_result"
    }
   ],
   "source": [
    "recover.head()"
   ]
  },
  {
   "cell_type": "code",
   "execution_count": 13,
   "metadata": {},
   "outputs": [],
   "source": [
    "temp = death.iloc[:,:4]\n",
    "temp['death'] = death.iloc[:,-1]\n",
    "death = temp"
   ]
  },
  {
   "cell_type": "code",
   "execution_count": 14,
   "metadata": {},
   "outputs": [
    {
     "data": {
      "text/html": [
       "<div>\n",
       "<style scoped>\n",
       "    .dataframe tbody tr th:only-of-type {\n",
       "        vertical-align: middle;\n",
       "    }\n",
       "\n",
       "    .dataframe tbody tr th {\n",
       "        vertical-align: top;\n",
       "    }\n",
       "\n",
       "    .dataframe thead th {\n",
       "        text-align: right;\n",
       "    }\n",
       "</style>\n",
       "<table border=\"1\" class=\"dataframe\">\n",
       "  <thead>\n",
       "    <tr style=\"text-align: right;\">\n",
       "      <th></th>\n",
       "      <th>Province/State</th>\n",
       "      <th>Country/Region</th>\n",
       "      <th>Lat</th>\n",
       "      <th>Long</th>\n",
       "      <th>death</th>\n",
       "    </tr>\n",
       "  </thead>\n",
       "  <tbody>\n",
       "    <tr>\n",
       "      <th>0</th>\n",
       "      <td>NaN</td>\n",
       "      <td>Afghanistan</td>\n",
       "      <td>33.0000</td>\n",
       "      <td>65.0000</td>\n",
<<<<<<< HEAD
       "      <td>58</td>\n",
=======
       "      <td>47</td>\n",
>>>>>>> 6ec1e3ce5f989841c549ab20796c6168663d7901
       "    </tr>\n",
       "    <tr>\n",
       "      <th>1</th>\n",
       "      <td>NaN</td>\n",
       "      <td>Albania</td>\n",
       "      <td>41.1533</td>\n",
       "      <td>20.1683</td>\n",
       "      <td>30</td>\n",
       "    </tr>\n",
       "    <tr>\n",
       "      <th>2</th>\n",
       "      <td>NaN</td>\n",
       "      <td>Algeria</td>\n",
       "      <td>28.0339</td>\n",
       "      <td>1.6596</td>\n",
<<<<<<< HEAD
       "      <td>437</td>\n",
=======
       "      <td>419</td>\n",
>>>>>>> 6ec1e3ce5f989841c549ab20796c6168663d7901
       "    </tr>\n",
       "    <tr>\n",
       "      <th>3</th>\n",
       "      <td>NaN</td>\n",
       "      <td>Andorra</td>\n",
       "      <td>42.5063</td>\n",
       "      <td>1.5218</td>\n",
<<<<<<< HEAD
       "      <td>41</td>\n",
=======
       "      <td>40</td>\n",
>>>>>>> 6ec1e3ce5f989841c549ab20796c6168663d7901
       "    </tr>\n",
       "    <tr>\n",
       "      <th>4</th>\n",
       "      <td>NaN</td>\n",
       "      <td>Angola</td>\n",
       "      <td>-11.2027</td>\n",
       "      <td>17.8739</td>\n",
       "      <td>2</td>\n",
       "    </tr>\n",
       "  </tbody>\n",
       "</table>\n",
       "</div>"
      ],
      "text/plain": [
       "  Province/State Country/Region      Lat     Long  death\n",
<<<<<<< HEAD
       "0            NaN    Afghanistan  33.0000  65.0000     58\n",
       "1            NaN        Albania  41.1533  20.1683     30\n",
       "2            NaN        Algeria  28.0339   1.6596    437\n",
       "3            NaN        Andorra  42.5063   1.5218     41\n",
=======
       "0            NaN    Afghanistan  33.0000  65.0000     47\n",
       "1            NaN        Albania  41.1533  20.1683     27\n",
       "2            NaN        Algeria  28.0339   1.6596    419\n",
       "3            NaN        Andorra  42.5063   1.5218     40\n",
>>>>>>> 6ec1e3ce5f989841c549ab20796c6168663d7901
       "4            NaN         Angola -11.2027  17.8739      2"
      ]
     },
     "execution_count": 14,
     "metadata": {},
     "output_type": "execute_result"
    }
   ],
   "source": [
    "death.head()"
   ]
  },
  {
   "cell_type": "code",
   "execution_count": 15,
   "metadata": {},
   "outputs": [],
   "source": [
    "data = confirm.merge(recover, sort=False, on=['Province/State','Country/Region','Lat','Long'], how='left')"
   ]
  },
  {
   "cell_type": "code",
   "execution_count": 16,
   "metadata": {},
   "outputs": [
    {
     "data": {
      "text/plain": [
       "(264, 6)"
      ]
     },
     "execution_count": 16,
     "metadata": {},
     "output_type": "execute_result"
    }
   ],
   "source": [
    "data.shape"
   ]
  },
  {
   "cell_type": "code",
   "execution_count": 17,
   "metadata": {},
   "outputs": [
    {
     "data": {
      "text/html": [
       "<div>\n",
       "<style scoped>\n",
       "    .dataframe tbody tr th:only-of-type {\n",
       "        vertical-align: middle;\n",
       "    }\n",
       "\n",
       "    .dataframe tbody tr th {\n",
       "        vertical-align: top;\n",
       "    }\n",
       "\n",
       "    .dataframe thead th {\n",
       "        text-align: right;\n",
       "    }\n",
       "</style>\n",
       "<table border=\"1\" class=\"dataframe\">\n",
       "  <thead>\n",
       "    <tr style=\"text-align: right;\">\n",
       "      <th></th>\n",
       "      <th>Province/State</th>\n",
       "      <th>Country/Region</th>\n",
       "      <th>Lat</th>\n",
       "      <th>Long</th>\n",
       "      <th>confirm</th>\n",
       "      <th>recover</th>\n",
       "    </tr>\n",
       "  </thead>\n",
       "  <tbody>\n",
       "    <tr>\n",
       "      <th>0</th>\n",
       "      <td>NaN</td>\n",
       "      <td>Afghanistan</td>\n",
       "      <td>33.0000</td>\n",
       "      <td>65.0000</td>\n",
<<<<<<< HEAD
       "      <td>1828</td>\n",
       "      <td>228.0</td>\n",
=======
       "      <td>1463</td>\n",
       "      <td>188.0</td>\n",
>>>>>>> 6ec1e3ce5f989841c549ab20796c6168663d7901
       "    </tr>\n",
       "    <tr>\n",
       "      <th>1</th>\n",
       "      <td>NaN</td>\n",
       "      <td>Albania</td>\n",
       "      <td>41.1533</td>\n",
       "      <td>20.1683</td>\n",
<<<<<<< HEAD
       "      <td>750</td>\n",
       "      <td>431.0</td>\n",
=======
       "      <td>712</td>\n",
       "      <td>403.0</td>\n",
>>>>>>> 6ec1e3ce5f989841c549ab20796c6168663d7901
       "    </tr>\n",
       "    <tr>\n",
       "      <th>2</th>\n",
       "      <td>NaN</td>\n",
       "      <td>Algeria</td>\n",
       "      <td>28.0339</td>\n",
       "      <td>1.6596</td>\n",
<<<<<<< HEAD
       "      <td>3649</td>\n",
       "      <td>1651.0</td>\n",
=======
       "      <td>3256</td>\n",
       "      <td>1479.0</td>\n",
>>>>>>> 6ec1e3ce5f989841c549ab20796c6168663d7901
       "    </tr>\n",
       "    <tr>\n",
       "      <th>3</th>\n",
       "      <td>NaN</td>\n",
       "      <td>Andorra</td>\n",
       "      <td>42.5063</td>\n",
       "      <td>1.5218</td>\n",
<<<<<<< HEAD
       "      <td>743</td>\n",
       "      <td>398.0</td>\n",
=======
       "      <td>738</td>\n",
       "      <td>344.0</td>\n",
>>>>>>> 6ec1e3ce5f989841c549ab20796c6168663d7901
       "    </tr>\n",
       "    <tr>\n",
       "      <th>4</th>\n",
       "      <td>NaN</td>\n",
       "      <td>Angola</td>\n",
       "      <td>-11.2027</td>\n",
       "      <td>17.8739</td>\n",
       "      <td>27</td>\n",
       "      <td>6.0</td>\n",
       "    </tr>\n",
       "  </tbody>\n",
       "</table>\n",
       "</div>"
      ],
      "text/plain": [
       "  Province/State Country/Region      Lat     Long  confirm  recover\n",
<<<<<<< HEAD
       "0            NaN    Afghanistan  33.0000  65.0000     1828    228.0\n",
       "1            NaN        Albania  41.1533  20.1683      750    431.0\n",
       "2            NaN        Algeria  28.0339   1.6596     3649   1651.0\n",
       "3            NaN        Andorra  42.5063   1.5218      743    398.0\n",
       "4            NaN         Angola -11.2027  17.8739       27      6.0"
=======
       "0            NaN    Afghanistan  33.0000  65.0000     1463    188.0\n",
       "1            NaN        Albania  41.1533  20.1683      712    403.0\n",
       "2            NaN        Algeria  28.0339   1.6596     3256   1479.0\n",
       "3            NaN        Andorra  42.5063   1.5218      738    344.0\n",
       "4            NaN         Angola -11.2027  17.8739       25      6.0"
>>>>>>> 6ec1e3ce5f989841c549ab20796c6168663d7901
      ]
     },
     "execution_count": 17,
     "metadata": {},
     "output_type": "execute_result"
    }
   ],
   "source": [
    "data.head()"
   ]
  },
  {
   "cell_type": "code",
   "execution_count": 18,
   "metadata": {},
   "outputs": [],
   "source": [
    "data = data.merge(death, sort=False, on=['Province/State','Country/Region','Lat','Long'], how='left')"
   ]
  },
  {
   "cell_type": "code",
   "execution_count": 19,
   "metadata": {},
   "outputs": [
    {
     "data": {
      "text/plain": [
       "(264, 7)"
      ]
     },
     "execution_count": 19,
     "metadata": {},
     "output_type": "execute_result"
    }
   ],
   "source": [
    "data.shape"
   ]
  },
  {
   "cell_type": "code",
   "execution_count": 20,
   "metadata": {},
   "outputs": [
    {
     "data": {
      "text/html": [
       "<div>\n",
       "<style scoped>\n",
       "    .dataframe tbody tr th:only-of-type {\n",
       "        vertical-align: middle;\n",
       "    }\n",
       "\n",
       "    .dataframe tbody tr th {\n",
       "        vertical-align: top;\n",
       "    }\n",
       "\n",
       "    .dataframe thead th {\n",
       "        text-align: right;\n",
       "    }\n",
       "</style>\n",
       "<table border=\"1\" class=\"dataframe\">\n",
       "  <thead>\n",
       "    <tr style=\"text-align: right;\">\n",
       "      <th></th>\n",
       "      <th>Province/State</th>\n",
       "      <th>Country/Region</th>\n",
       "      <th>Lat</th>\n",
       "      <th>Long</th>\n",
       "      <th>confirm</th>\n",
       "      <th>recover</th>\n",
       "      <th>death</th>\n",
       "    </tr>\n",
       "  </thead>\n",
       "  <tbody>\n",
       "    <tr>\n",
       "      <th>0</th>\n",
       "      <td>NaN</td>\n",
       "      <td>Afghanistan</td>\n",
       "      <td>33.0000</td>\n",
       "      <td>65.0000</td>\n",
<<<<<<< HEAD
       "      <td>1828</td>\n",
       "      <td>228.0</td>\n",
       "      <td>58</td>\n",
=======
       "      <td>1463</td>\n",
       "      <td>188.0</td>\n",
       "      <td>47</td>\n",
>>>>>>> 6ec1e3ce5f989841c549ab20796c6168663d7901
       "    </tr>\n",
       "    <tr>\n",
       "      <th>1</th>\n",
       "      <td>NaN</td>\n",
       "      <td>Albania</td>\n",
       "      <td>41.1533</td>\n",
       "      <td>20.1683</td>\n",
<<<<<<< HEAD
       "      <td>750</td>\n",
       "      <td>431.0</td>\n",
       "      <td>30</td>\n",
=======
       "      <td>712</td>\n",
       "      <td>403.0</td>\n",
       "      <td>27</td>\n",
>>>>>>> 6ec1e3ce5f989841c549ab20796c6168663d7901
       "    </tr>\n",
       "    <tr>\n",
       "      <th>2</th>\n",
       "      <td>NaN</td>\n",
       "      <td>Algeria</td>\n",
       "      <td>28.0339</td>\n",
       "      <td>1.6596</td>\n",
<<<<<<< HEAD
       "      <td>3649</td>\n",
       "      <td>1651.0</td>\n",
       "      <td>437</td>\n",
=======
       "      <td>3256</td>\n",
       "      <td>1479.0</td>\n",
       "      <td>419</td>\n",
>>>>>>> 6ec1e3ce5f989841c549ab20796c6168663d7901
       "    </tr>\n",
       "    <tr>\n",
       "      <th>3</th>\n",
       "      <td>NaN</td>\n",
       "      <td>Andorra</td>\n",
       "      <td>42.5063</td>\n",
       "      <td>1.5218</td>\n",
<<<<<<< HEAD
       "      <td>743</td>\n",
       "      <td>398.0</td>\n",
       "      <td>41</td>\n",
=======
       "      <td>738</td>\n",
       "      <td>344.0</td>\n",
       "      <td>40</td>\n",
>>>>>>> 6ec1e3ce5f989841c549ab20796c6168663d7901
       "    </tr>\n",
       "    <tr>\n",
       "      <th>4</th>\n",
       "      <td>NaN</td>\n",
       "      <td>Angola</td>\n",
       "      <td>-11.2027</td>\n",
       "      <td>17.8739</td>\n",
       "      <td>27</td>\n",
       "      <td>6.0</td>\n",
       "      <td>2</td>\n",
       "    </tr>\n",
       "  </tbody>\n",
       "</table>\n",
       "</div>"
      ],
      "text/plain": [
       "  Province/State Country/Region      Lat     Long  confirm  recover  death\n",
<<<<<<< HEAD
       "0            NaN    Afghanistan  33.0000  65.0000     1828    228.0     58\n",
       "1            NaN        Albania  41.1533  20.1683      750    431.0     30\n",
       "2            NaN        Algeria  28.0339   1.6596     3649   1651.0    437\n",
       "3            NaN        Andorra  42.5063   1.5218      743    398.0     41\n",
       "4            NaN         Angola -11.2027  17.8739       27      6.0      2"
=======
       "0            NaN    Afghanistan  33.0000  65.0000     1463    188.0     47\n",
       "1            NaN        Albania  41.1533  20.1683      712    403.0     27\n",
       "2            NaN        Algeria  28.0339   1.6596     3256   1479.0    419\n",
       "3            NaN        Andorra  42.5063   1.5218      738    344.0     40\n",
       "4            NaN         Angola -11.2027  17.8739       25      6.0      2"
>>>>>>> 6ec1e3ce5f989841c549ab20796c6168663d7901
      ]
     },
     "execution_count": 20,
     "metadata": {},
     "output_type": "execute_result"
    }
   ],
   "source": [
    "data.head()"
   ]
  },
  {
   "cell_type": "code",
   "execution_count": 21,
   "metadata": {},
   "outputs": [
    {
     "data": {
      "text/plain": [
       "Province/State    182\n",
       "Country/Region      0\n",
       "Lat                 0\n",
       "Long                0\n",
       "confirm             0\n",
       "recover            28\n",
       "death               0\n",
       "dtype: int64"
      ]
     },
     "execution_count": 21,
     "metadata": {},
     "output_type": "execute_result"
    }
   ],
   "source": [
    "data.isna().sum()"
   ]
  },
  {
   "cell_type": "code",
   "execution_count": 22,
   "metadata": {},
   "outputs": [],
   "source": [
    "data['recover'].fillna(0, inplace=True)"
   ]
  },
  {
   "cell_type": "code",
   "execution_count": 23,
   "metadata": {},
   "outputs": [],
   "source": [
    "data['Province/State'].fillna('', inplace=True)"
   ]
  },
  {
   "cell_type": "code",
   "execution_count": 24,
   "metadata": {},
   "outputs": [],
   "source": [
    "data['recover']=data['recover'].astype('int')"
   ]
  },
  {
   "cell_type": "code",
   "execution_count": 25,
   "metadata": {},
   "outputs": [
    {
     "data": {
      "text/plain": [
       "Province/State    0\n",
       "Country/Region    0\n",
       "Lat               0\n",
       "Long              0\n",
       "confirm           0\n",
       "recover           0\n",
       "death             0\n",
       "dtype: int64"
      ]
     },
     "execution_count": 25,
     "metadata": {},
     "output_type": "execute_result"
    }
   ],
   "source": [
    "data.isna().sum()"
   ]
  },
  {
   "cell_type": "code",
   "execution_count": 26,
   "metadata": {},
   "outputs": [],
   "source": [
    "data.columns = ['state','country','lat','long','confirm','recover','death']"
   ]
  },
  {
   "cell_type": "code",
   "execution_count": 27,
   "metadata": {},
   "outputs": [
    {
     "data": {
      "text/html": [
       "<div>\n",
       "<style scoped>\n",
       "    .dataframe tbody tr th:only-of-type {\n",
       "        vertical-align: middle;\n",
       "    }\n",
       "\n",
       "    .dataframe tbody tr th {\n",
       "        vertical-align: top;\n",
       "    }\n",
       "\n",
       "    .dataframe thead th {\n",
       "        text-align: right;\n",
       "    }\n",
       "</style>\n",
       "<table border=\"1\" class=\"dataframe\">\n",
       "  <thead>\n",
       "    <tr style=\"text-align: right;\">\n",
       "      <th></th>\n",
       "      <th>state</th>\n",
       "      <th>country</th>\n",
       "      <th>lat</th>\n",
       "      <th>long</th>\n",
       "      <th>confirm</th>\n",
       "      <th>recover</th>\n",
       "      <th>death</th>\n",
       "    </tr>\n",
       "  </thead>\n",
       "  <tbody>\n",
       "    <tr>\n",
       "      <th>0</th>\n",
       "      <td></td>\n",
       "      <td>Afghanistan</td>\n",
       "      <td>33.0000</td>\n",
       "      <td>65.0000</td>\n",
<<<<<<< HEAD
       "      <td>1828</td>\n",
       "      <td>228</td>\n",
       "      <td>58</td>\n",
=======
       "      <td>1463</td>\n",
       "      <td>188</td>\n",
       "      <td>47</td>\n",
>>>>>>> 6ec1e3ce5f989841c549ab20796c6168663d7901
       "    </tr>\n",
       "    <tr>\n",
       "      <th>1</th>\n",
       "      <td></td>\n",
       "      <td>Albania</td>\n",
       "      <td>41.1533</td>\n",
       "      <td>20.1683</td>\n",
<<<<<<< HEAD
       "      <td>750</td>\n",
       "      <td>431</td>\n",
       "      <td>30</td>\n",
=======
       "      <td>712</td>\n",
       "      <td>403</td>\n",
       "      <td>27</td>\n",
>>>>>>> 6ec1e3ce5f989841c549ab20796c6168663d7901
       "    </tr>\n",
       "    <tr>\n",
       "      <th>2</th>\n",
       "      <td></td>\n",
       "      <td>Algeria</td>\n",
       "      <td>28.0339</td>\n",
       "      <td>1.6596</td>\n",
<<<<<<< HEAD
       "      <td>3649</td>\n",
       "      <td>1651</td>\n",
       "      <td>437</td>\n",
=======
       "      <td>3256</td>\n",
       "      <td>1479</td>\n",
       "      <td>419</td>\n",
>>>>>>> 6ec1e3ce5f989841c549ab20796c6168663d7901
       "    </tr>\n",
       "    <tr>\n",
       "      <th>3</th>\n",
       "      <td></td>\n",
       "      <td>Andorra</td>\n",
       "      <td>42.5063</td>\n",
       "      <td>1.5218</td>\n",
<<<<<<< HEAD
       "      <td>743</td>\n",
       "      <td>398</td>\n",
       "      <td>41</td>\n",
=======
       "      <td>738</td>\n",
       "      <td>344</td>\n",
       "      <td>40</td>\n",
>>>>>>> 6ec1e3ce5f989841c549ab20796c6168663d7901
       "    </tr>\n",
       "    <tr>\n",
       "      <th>4</th>\n",
       "      <td></td>\n",
       "      <td>Angola</td>\n",
       "      <td>-11.2027</td>\n",
       "      <td>17.8739</td>\n",
       "      <td>27</td>\n",
       "      <td>6</td>\n",
       "      <td>2</td>\n",
       "    </tr>\n",
       "  </tbody>\n",
       "</table>\n",
       "</div>"
      ],
      "text/plain": [
       "  state      country      lat     long  confirm  recover  death\n",
<<<<<<< HEAD
       "0        Afghanistan  33.0000  65.0000     1828      228     58\n",
       "1            Albania  41.1533  20.1683      750      431     30\n",
       "2            Algeria  28.0339   1.6596     3649     1651    437\n",
       "3            Andorra  42.5063   1.5218      743      398     41\n",
       "4             Angola -11.2027  17.8739       27        6      2"
=======
       "0        Afghanistan  33.0000  65.0000     1463      188     47\n",
       "1            Albania  41.1533  20.1683      712      403     27\n",
       "2            Algeria  28.0339   1.6596     3256     1479    419\n",
       "3            Andorra  42.5063   1.5218      738      344     40\n",
       "4             Angola -11.2027  17.8739       25        6      2"
>>>>>>> 6ec1e3ce5f989841c549ab20796c6168663d7901
      ]
     },
     "execution_count": 27,
     "metadata": {},
     "output_type": "execute_result"
    }
   ],
   "source": [
    "data.head()"
   ]
  },
  {
   "cell_type": "code",
   "execution_count": 28,
   "metadata": {},
   "outputs": [],
   "source": [
    "data.to_json('../frontend/src/assets/data/data.json', orient='records' )"
   ]
  },
  {
   "cell_type": "code",
   "execution_count": null,
   "metadata": {},
   "outputs": [],
   "source": []
  }
 ],
 "metadata": {
  "kernelspec": {
   "display_name": "Python 3",
   "language": "python",
   "name": "python3"
  },
  "language_info": {
   "codemirror_mode": {
    "name": "ipython",
    "version": 3
   },
   "file_extension": ".py",
   "mimetype": "text/x-python",
   "name": "python",
   "nbconvert_exporter": "python",
   "pygments_lexer": "ipython3",
   "version": "3.7.6"
  }
 },
 "nbformat": 4,
 "nbformat_minor": 4
}
